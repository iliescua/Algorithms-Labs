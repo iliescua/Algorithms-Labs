{
 "cells": [
  {
   "cell_type": "code",
   "execution_count": 5,
   "metadata": {},
   "outputs": [],
   "source": [
    "from sorting import insertion_sort\n",
    "import matplotlib.pyplot as plt\n",
    "import numpy as np\n",
    "import random as rand\n",
    "import time"
   ]
  },
  {
   "cell_type": "code",
   "execution_count": 6,
   "metadata": {},
   "outputs": [],
   "source": [
    "def benchmark(lst):\n",
    "    times = [] #Used to store the duration time\n",
    "    n_trials = 10 #Number of trials for each list\n",
    "    for i in range(n_trials):\n",
    "        copy = lst[:] #Duplicate list was made so that the order isn;t altered\n",
    "        start = time.clock()\n",
    "        insertion_sort(copy)\n",
    "        end = time.clock()\n",
    "        elapsed = end - start\n",
    "        times.append(elapsed)\n",
    "    avg = np.mean(times) #Calculates the average run time\n",
    "    print(\"Average Time: %.10f seconds\\n\" %(avg))\n",
    "    return avg"
   ]
  },
  {
   "cell_type": "code",
   "execution_count": 7,
   "metadata": {},
   "outputs": [],
   "source": [
    "def plotMaker(trials, result_shuffle, result_sort, result_reverse):\n",
    "    #This method is called to simply create a plot of the results\n",
    "    plt.plot(np.log10(trials), result_shuffle, label=\"Shuffle List\")\n",
    "    plt.plot(np.log10(trials), result_sort, label=\"Sort List\")\n",
    "    plt.plot(np.log10(trials), result_reverse, label=\"Reverse List\")\n",
    "    plt.xlabel(\"List Size (log10)\", fontsize=12)\n",
    "    plt.ylabel(\"Running Time (s)\", fontsize=12)\n",
    "    plt.title(\"Insertion Sort: List Size vs. Run Time\", fontsize=14)\n",
    "    plt.legend()"
   ]
  },
  {
   "cell_type": "code",
   "execution_count": 8,
   "metadata": {},
   "outputs": [
    {
     "name": "stdout",
     "output_type": "stream",
     "text": "\nRandom Shuffle for Size: 100\nAverage Time: 0.0003905000 seconds\n\n\nSort for Size: 100\nAverage Time: 0.0000168900 seconds\n\n\nReverse Sort for Size: 100\nAverage Time: 0.0005590000 seconds\n\n\nRandom Shuffle for Size: 1000\nAverage Time: 0.0322756800 seconds\n\n\nSort for Size: 1000\nAverage Time: 0.0001840100 seconds\n\n\nReverse Sort for Size: 1000\nAverage Time: 0.0608505600 seconds\n\n\nRandom Shuffle for Size: 10000\nAverage Time: 3.2812524400 seconds\n\n\nSort for Size: 10000\nAverage Time: 0.0017923700 seconds\n\n\nReverse Sort for Size: 10000\nAverage Time: 6.5785657600 seconds\n\n\nRandom Shuffle for Size: 100000\n"
    }
   ],
   "source": [
    "trials = [100, 1000, 10000, 100000]\n",
    "lst = []\n",
    "result_shuffle = []\n",
    "result_sort = []\n",
    "result_reverse = []\n",
    "\n",
    "for length in trials:\n",
    "    lst = [rand.random() for i in range(length)]\n",
    "    rand.shuffle(lst)\n",
    "    print(\"\\nRandom Shuffle for Size: %d\" %(length))\n",
    "    result_shuffle.append(benchmark(lst))\n",
    "    lst.sort()\n",
    "    print(\"\\nSort for Size: %d\" %(length))\n",
    "    result_sort.append(benchmark(lst))\n",
    "    lst.reverse()\n",
    "    print(\"\\nReverse Sort for Size: %d\" %(length))\n",
    "    result_reverse.append(benchmark(lst))\n",
    "plotMaker(trials, result_shuffle, result_sort, result_reverse)"
   ]
  },
  {
   "cell_type": "code",
   "execution_count": null,
   "metadata": {},
   "outputs": [],
   "source": []
  }
 ],
 "metadata": {
  "kernelspec": {
   "display_name": "Python 3",
   "language": "python",
   "name": "python3"
  },
  "language_info": {
   "codemirror_mode": {
    "name": "ipython",
    "version": 3
   },
   "file_extension": ".py",
   "mimetype": "text/x-python",
   "name": "python",
   "nbconvert_exporter": "python",
   "pygments_lexer": "ipython3",
   "version": "3.7.4-final"
  }
 },
 "nbformat": 4,
 "nbformat_minor": 2
}