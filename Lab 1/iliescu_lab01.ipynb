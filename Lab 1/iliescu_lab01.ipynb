{
 "cells": [
  {
   "cell_type": "code",
   "execution_count": 85,
   "metadata": {},
   "outputs": [],
   "source": [
    "from sorting import insertion_sort\n",
    "import matplotlib.pyplot as plt\n",
    "import numpy as np\n",
    "import random as rand\n",
    "import time"
   ]
  },
  {
   "cell_type": "code",
   "execution_count": 122,
   "metadata": {},
   "outputs": [],
   "source": [
    "def benchmark(lst):\n",
    "    times = []\n",
    "    n_trials = 10\n",
    "    for i in range(n_trials):\n",
    "        copy = lst[:]\n",
    "        start = time.clock()\n",
    "        insertion_sort(copy)\n",
    "        end = time.clock()\n",
    "        elapsed = end - start\n",
    "        times.append(elapsed)\n",
    "    for entry in times:\n",
    "        print(\"%.10f\" %(entry))\n",
    "    avg = np.mean(times)\n",
    "    print(\"\\nAverage Time: %.10f seconds\\n\\n\" %(avg))\n",
    "    return avg"
   ]
  },
  {
   "cell_type": "code",
   "execution_count": 126,
   "metadata": {},
   "outputs": [
    {
     "name": "stdout",
     "output_type": "stream",
     "text": "\nRandom Shuffle for Size: 100\n0.0002960000\n0.0003964000\n0.0002914000\n0.0002986000\n0.0003015000\n0.0002983000\n0.0002962000\n0.0003139000\n0.0003121000\n0.0004672000\n\nAverage Time: 0.0003271600 seconds\n\n\n\nSort for Size: 100\n0.0000199000\n0.0000169000\n0.0000166000\n0.0000164000\n0.0000164000\n0.0000163000\n0.0000163000\n0.0000163000\n0.0000170000\n0.0000171000\n\nAverage Time: 0.0000169200 seconds\n\n\n\nReverse Sort for Size: 100\n0.0006031000\n0.0005970000\n0.0007139000\n0.0007664000\n0.0007789000\n0.0007559000\n0.0008922000\n0.0005992000\n0.0007392000\n0.0011894000\n\nAverage Time: 0.0007635200 seconds\n\n\n\nRandom Shuffle for Size: 1000\n0.0338254000\n0.0317124000\n0.0320214000\n0.0317071000\n0.0316382000\n0.0313454000\n0.0316474000\n0.0314406000\n0.0318445000\n0.0317578000\n\nAverage Time: 0.0318940200 seconds\n\n\n\nSort for Size: 1000\n0.0001819000\n0.0001802000\n0.0001806000\n0.0001786000\n0.0001769000\n0.0001866000\n0.0001860000\n0.0001867000\n0.0001862000\n0.0001881000\n\nAverage Time: 0.0001831800 seconds\n\n\n\nReverse Sort for Size: 1000\n0.0631690000\n0.0619072000\n0.0609766000\n0.0616728000\n0.0599331000\n0.0603554000\n0.0596171000\n0.0595734000\n0.0611086000\n0.0624980000\n\nAverage Time: 0.0610811200 seconds\n\n\n"
    }
   ],
   "source": [
    "trials = [100, 1000]\n",
    "lst = []\n",
    "\n",
    "for length in trials:\n",
    "    lst = [rand.random() for i in range(length)]\n",
    "    rand.shuffle(lst)\n",
    "    print(\"\\nRandom Shuffle for Size: %d\" %(length))\n",
    "    benchmark(lst)\n",
    "    lst.sort()\n",
    "    print(\"\\nSort for Size: %d\" %(length))\n",
    "    benchmark(lst)\n",
    "    lst.reverse()\n",
    "    print(\"\\nReverse Sort for Size: %d\" %(length))\n",
    "    benchmark(lst)\n",
    "    count+=1\n"
   ]
  },
  {
   "cell_type": "code",
   "execution_count": null,
   "metadata": {},
   "outputs": [],
   "source": []
  }
 ],
 "metadata": {
  "kernelspec": {
   "display_name": "Python 3",
   "language": "python",
   "name": "python3"
  },
  "language_info": {
   "codemirror_mode": {
    "name": "ipython",
    "version": 3
   },
   "file_extension": ".py",
   "mimetype": "text/x-python",
   "name": "python",
   "nbconvert_exporter": "python",
   "pygments_lexer": "ipython3",
   "version": "3.7.4-final"
  }
 },
 "nbformat": 4,
 "nbformat_minor": 2
}