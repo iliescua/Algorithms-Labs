{
 "cells": [
  {
   "cell_type": "code",
   "execution_count": 2,
   "metadata": {},
   "outputs": [],
   "source": [
    "from sorting import insertion_sort\n",
    "import matplotlib.pyplot as plt\n",
    "import numpy as np\n",
    "import random as rand\n",
    "import time"
   ]
  },
  {
   "cell_type": "code",
   "execution_count": 3,
   "metadata": {},
   "outputs": [],
   "source": [
    "def benchmark(lst):\n",
    "    times = []\n",
    "    n_trials = 10\n",
    "    for i in range(n_trials):\n",
    "        copy = lst[:]\n",
    "        start = time.clock()\n",
    "        insertion_sort(copy)\n",
    "        end = time.clock()\n",
    "        elapsed = end - start\n",
    "        times.append(elapsed)\n",
    "    for entry in times:\n",
    "        print(\"%.10f\" %(entry))\n",
    "    avg = np.mean(times)\n",
    "    print(\"\\nAverage Time: %.10f seconds\\n\\n\" %(avg))\n",
    "    return avg"
   ]
  },
  {
   "cell_type": "code",
   "execution_count": 17,
   "metadata": {},
   "outputs": [],
   "source": [
    "def plotMaker(trials, result_shuffle, result_sort, result_reverse):\n",
    "    plt.plot(np.log10(trials), result_shuffle, label=\"Shuffle List\")\n",
    "    plt.plot(np.log10(trials), result_sort, label=\"Sort List\")\n",
    "    plt.plot(np.log10(trials), result_reverse, label=\"Reverse List\")\n",
    "    plt.xlabel(\"List Size (log10)\", fontsize=12)\n",
    "    plt.ylabel(\"Running Time (s)\", fontsize=12)\n",
    "    plt.title(\"Insertion Sort: List Size vs. Run Time\", fontsize=14)\n",
    "    plt.legend()"
   ]
  },
  {
   "cell_type": "code",
   "execution_count": 22,
   "metadata": {},
   "outputs": [
    {
     "name": "stdout",
     "output_type": "stream",
     "text": "\nRandom Shuffle for Size: 100\n0.0028737880\n0.0020679820\n0.0031729950\n0.0036644720\n0.0026188690\n0.0034214330\n0.0029839660\n0.0032237630\n0.0027441680\n0.0031713750\n\nAverage Time: 0.0029942811 seconds\n\n\n\nSort for Size: 100\n0.0001512240\n0.0001614850\n0.0001312400\n0.0001323210\n0.0002117130\n0.0000977550\n0.0001161180\n0.0001361020\n0.0001231390\n0.0001247590\n\nAverage Time: 0.0001385856 seconds\n\n\n\nReverse Sort for Size: 100\n0.0108060050\n0.0058177870\n0.0044735170\n0.0059468670\n0.0038589020\n0.0025994250\n0.0035186490\n0.0026442520\n0.0037805890\n0.0027069020\n\nAverage Time: 0.0046152895 seconds\n\n\n\nRandom Shuffle for Size: 1000\n0.2078211760\n0.2027244010\n0.0840014620\n0.0655381420\n0.0789025280\n0.0770311360\n0.0902923640\n0.0852404160\n0.0783662240\n0.0588319160\n\nAverage Time: 0.1028749765 seconds\n\n\n\nSort for Size: 1000\n0.0002705820\n0.0003067680\n0.0003046070\n0.0003181090\n0.0003170290\n0.0003100080\n0.0002668020\n0.0002662620\n0.0002700420\n0.0002695020\n\nAverage Time: 0.0002899711 seconds\n\n\n\nReverse Sort for Size: 1000\n0.1403905780\n0.1499441280\n0.1713395650\n0.1525781190\n0.1631815930\n0.1617417280\n0.1561415950\n0.1504118410\n0.1249771140\n0.1534233510\n\nAverage Time: 0.1524129612 seconds\n\n\n\nRandom Shuffle for Size: 10000\n"
    },
    {
     "ename": "KeyboardInterrupt",
     "evalue": "",
     "output_type": "error",
     "traceback": [
      "\u001b[1;31m---------------------------------------------------------------------------\u001b[0m",
      "\u001b[1;31mKeyboardInterrupt\u001b[0m                         Traceback (most recent call last)",
      "\u001b[1;32m<ipython-input-22-f43b8e29b3cc>\u001b[0m in \u001b[0;36m<module>\u001b[1;34m\u001b[0m\n\u001b[0;32m      9\u001b[0m     \u001b[0mrand\u001b[0m\u001b[1;33m.\u001b[0m\u001b[0mshuffle\u001b[0m\u001b[1;33m(\u001b[0m\u001b[0mlst\u001b[0m\u001b[1;33m)\u001b[0m\u001b[1;33m\u001b[0m\u001b[1;33m\u001b[0m\u001b[0m\n\u001b[0;32m     10\u001b[0m     \u001b[0mprint\u001b[0m\u001b[1;33m(\u001b[0m\u001b[1;34m\"\\nRandom Shuffle for Size: %d\"\u001b[0m \u001b[1;33m%\u001b[0m\u001b[1;33m(\u001b[0m\u001b[0mlength\u001b[0m\u001b[1;33m)\u001b[0m\u001b[1;33m)\u001b[0m\u001b[1;33m\u001b[0m\u001b[1;33m\u001b[0m\u001b[0m\n\u001b[1;32m---> 11\u001b[1;33m     \u001b[0mresult_shuffle\u001b[0m\u001b[1;33m.\u001b[0m\u001b[0mappend\u001b[0m\u001b[1;33m(\u001b[0m\u001b[0mbenchmark\u001b[0m\u001b[1;33m(\u001b[0m\u001b[0mlst\u001b[0m\u001b[1;33m)\u001b[0m\u001b[1;33m)\u001b[0m\u001b[1;33m\u001b[0m\u001b[1;33m\u001b[0m\u001b[0m\n\u001b[0m\u001b[0;32m     12\u001b[0m     \u001b[0mlst\u001b[0m\u001b[1;33m.\u001b[0m\u001b[0msort\u001b[0m\u001b[1;33m(\u001b[0m\u001b[1;33m)\u001b[0m\u001b[1;33m\u001b[0m\u001b[1;33m\u001b[0m\u001b[0m\n\u001b[0;32m     13\u001b[0m     \u001b[0mprint\u001b[0m\u001b[1;33m(\u001b[0m\u001b[1;34m\"\\nSort for Size: %d\"\u001b[0m \u001b[1;33m%\u001b[0m\u001b[1;33m(\u001b[0m\u001b[0mlength\u001b[0m\u001b[1;33m)\u001b[0m\u001b[1;33m)\u001b[0m\u001b[1;33m\u001b[0m\u001b[1;33m\u001b[0m\u001b[0m\n",
      "\u001b[1;32m<ipython-input-3-6c9e85ee6e49>\u001b[0m in \u001b[0;36mbenchmark\u001b[1;34m(lst)\u001b[0m\n\u001b[0;32m      5\u001b[0m         \u001b[0mcopy\u001b[0m \u001b[1;33m=\u001b[0m \u001b[0mlst\u001b[0m\u001b[1;33m[\u001b[0m\u001b[1;33m:\u001b[0m\u001b[1;33m]\u001b[0m\u001b[1;33m\u001b[0m\u001b[1;33m\u001b[0m\u001b[0m\n\u001b[0;32m      6\u001b[0m         \u001b[0mstart\u001b[0m \u001b[1;33m=\u001b[0m \u001b[0mtime\u001b[0m\u001b[1;33m.\u001b[0m\u001b[0mclock\u001b[0m\u001b[1;33m(\u001b[0m\u001b[1;33m)\u001b[0m\u001b[1;33m\u001b[0m\u001b[1;33m\u001b[0m\u001b[0m\n\u001b[1;32m----> 7\u001b[1;33m         \u001b[0minsertion_sort\u001b[0m\u001b[1;33m(\u001b[0m\u001b[0mcopy\u001b[0m\u001b[1;33m)\u001b[0m\u001b[1;33m\u001b[0m\u001b[1;33m\u001b[0m\u001b[0m\n\u001b[0m\u001b[0;32m      8\u001b[0m         \u001b[0mend\u001b[0m \u001b[1;33m=\u001b[0m \u001b[0mtime\u001b[0m\u001b[1;33m.\u001b[0m\u001b[0mclock\u001b[0m\u001b[1;33m(\u001b[0m\u001b[1;33m)\u001b[0m\u001b[1;33m\u001b[0m\u001b[1;33m\u001b[0m\u001b[0m\n\u001b[0;32m      9\u001b[0m         \u001b[0melapsed\u001b[0m \u001b[1;33m=\u001b[0m \u001b[0mend\u001b[0m \u001b[1;33m-\u001b[0m \u001b[0mstart\u001b[0m\u001b[1;33m\u001b[0m\u001b[1;33m\u001b[0m\u001b[0m\n",
      "\u001b[1;32mc:\\Users\\iliescua\\Desktop\\Junior Year\\Spring\\Algorithms\\Algorithms-Labs\\Lab 1\\sorting.py\u001b[0m in \u001b[0;36minsertion_sort\u001b[1;34m(lst)\u001b[0m\n\u001b[0;32m      4\u001b[0m         \u001b[0mj\u001b[0m \u001b[1;33m=\u001b[0m \u001b[0mi\u001b[0m \u001b[1;33m-\u001b[0m \u001b[1;36m1\u001b[0m\u001b[1;33m\u001b[0m\u001b[1;33m\u001b[0m\u001b[0m\n\u001b[0;32m      5\u001b[0m         \u001b[1;32mwhile\u001b[0m \u001b[0mj\u001b[0m \u001b[1;33m>=\u001b[0m \u001b[1;36m0\u001b[0m \u001b[1;32mand\u001b[0m \u001b[0mkey\u001b[0m \u001b[1;33m<\u001b[0m \u001b[0mlst\u001b[0m\u001b[1;33m[\u001b[0m\u001b[0mj\u001b[0m\u001b[1;33m]\u001b[0m\u001b[1;33m:\u001b[0m\u001b[1;33m\u001b[0m\u001b[1;33m\u001b[0m\u001b[0m\n\u001b[1;32m----> 6\u001b[1;33m             \u001b[0mlst\u001b[0m\u001b[1;33m[\u001b[0m\u001b[0mj\u001b[0m\u001b[1;33m+\u001b[0m\u001b[1;36m1\u001b[0m\u001b[1;33m]\u001b[0m \u001b[1;33m=\u001b[0m \u001b[0mlst\u001b[0m\u001b[1;33m[\u001b[0m\u001b[0mj\u001b[0m\u001b[1;33m]\u001b[0m\u001b[1;33m\u001b[0m\u001b[1;33m\u001b[0m\u001b[0m\n\u001b[0m\u001b[0;32m      7\u001b[0m             \u001b[0mj\u001b[0m \u001b[1;33m-=\u001b[0m \u001b[1;36m1\u001b[0m\u001b[1;33m\u001b[0m\u001b[1;33m\u001b[0m\u001b[0m\n\u001b[0;32m      8\u001b[0m         \u001b[0mlst\u001b[0m\u001b[1;33m[\u001b[0m\u001b[0mj\u001b[0m\u001b[1;33m+\u001b[0m\u001b[1;36m1\u001b[0m\u001b[1;33m]\u001b[0m \u001b[1;33m=\u001b[0m \u001b[0mkey\u001b[0m\u001b[1;33m\u001b[0m\u001b[1;33m\u001b[0m\u001b[0m\n",
      "\u001b[1;31mKeyboardInterrupt\u001b[0m: "
     ]
    }
   ],
   "source": [
    "trials = [100, 1000, 10000]\n",
    "lst = []\n",
    "result_shuffle = []\n",
    "result_sort = []\n",
    "result_reverse = []\n",
    "\n",
    "for length in trials:\n",
    "    lst = [rand.random() for i in range(length)]\n",
    "    rand.shuffle(lst)\n",
    "    print(\"\\nRandom Shuffle for Size: %d\" %(length))\n",
    "    result_shuffle.append(benchmark(lst))\n",
    "    lst.sort()\n",
    "    print(\"\\nSort for Size: %d\" %(length))\n",
    "    result_sort.append(benchmark(lst))\n",
    "    lst.reverse()\n",
    "    print(\"\\nReverse Sort for Size: %d\" %(length))\n",
    "    result_reverse.append(benchmark(lst))\n",
    "plotMaker(trials, result_shuffle, result_sort, result_reverse)"
   ]
  },
  {
   "cell_type": "code",
   "execution_count": null,
   "metadata": {},
   "outputs": [],
   "source": []
  }
 ],
 "metadata": {
  "kernelspec": {
   "display_name": "Python 3",
   "language": "python",
   "name": "python3"
  },
  "language_info": {
   "codemirror_mode": {
    "name": "ipython",
    "version": 3
   },
   "file_extension": ".py",
   "mimetype": "text/x-python",
   "name": "python",
   "nbconvert_exporter": "python",
   "pygments_lexer": "ipython3",
   "version": "3.7.4-final"
  }
 },
 "nbformat": 4,
 "nbformat_minor": 2
}